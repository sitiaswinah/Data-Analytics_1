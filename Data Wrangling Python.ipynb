{
 "cells": [
  {
   "cell_type": "markdown",
   "id": "0efe2670-ca28-487b-a535-80336b674d4b",
   "metadata": {},
   "source": [
    "# **Data Cleansing**"
   ]
  },
  {
   "cell_type": "markdown",
   "id": "f3f26261-3818-4fff-a329-2c1bec888026",
   "metadata": {},
   "source": [
    "import beberapa library yang dibutuhkan"
   ]
  },
  {
   "cell_type": "code",
   "execution_count": 1,
   "id": "ff793464-491e-4442-bb35-4dfc49557c52",
   "metadata": {},
   "outputs": [],
   "source": [
    "import pandas as pd\n",
    "import numpy as np\n",
    "import matplotlib.pyplot as plt\n",
    "%matplotlib inline\n",
    "import seaborn as sns"
   ]
  },
  {
   "cell_type": "markdown",
   "id": "f824bba1-ed8c-4ea2-90c3-ad0cefb8d5b4",
   "metadata": {},
   "source": [
    "buat data frame kemudian load dataset nya\n",
    "\n",
    "disini dataset yang digunakan adalah data Titanic.csv"
   ]
  },
  {
   "cell_type": "code",
   "execution_count": 2,
   "id": "a8b87242-8719-48cc-b4a9-2b731bd30dc7",
   "metadata": {},
   "outputs": [],
   "source": [
    "df = pd.read_csv('Titanic.csv')"
   ]
  },
  {
   "cell_type": "markdown",
   "id": "2414535e-d2ba-4cdb-8a13-1bfec289869f",
   "metadata": {},
   "source": [
    "tampilkan dataset yang sudah di load"
   ]
  },
  {
   "cell_type": "code",
   "execution_count": 3,
   "id": "4d2b68aa-1873-4972-9a9a-0cbdf9e6d21b",
   "metadata": {},
   "outputs": [
    {
     "data": {
      "text/html": [
       "<div>\n",
       "<style scoped>\n",
       "    .dataframe tbody tr th:only-of-type {\n",
       "        vertical-align: middle;\n",
       "    }\n",
       "\n",
       "    .dataframe tbody tr th {\n",
       "        vertical-align: top;\n",
       "    }\n",
       "\n",
       "    .dataframe thead th {\n",
       "        text-align: right;\n",
       "    }\n",
       "</style>\n",
       "<table border=\"1\" class=\"dataframe\">\n",
       "  <thead>\n",
       "    <tr style=\"text-align: right;\">\n",
       "      <th></th>\n",
       "      <th>PassengerId</th>\n",
       "      <th>Survived</th>\n",
       "      <th>Pclass</th>\n",
       "      <th>Name</th>\n",
       "      <th>Sex</th>\n",
       "      <th>Age</th>\n",
       "      <th>SibSp</th>\n",
       "      <th>Parch</th>\n",
       "      <th>Ticket</th>\n",
       "      <th>Fare</th>\n",
       "      <th>Cabin</th>\n",
       "      <th>Embarked</th>\n",
       "    </tr>\n",
       "  </thead>\n",
       "  <tbody>\n",
       "    <tr>\n",
       "      <th>0</th>\n",
       "      <td>1</td>\n",
       "      <td>0</td>\n",
       "      <td>3</td>\n",
       "      <td>Braund, Mr. Owen Harris</td>\n",
       "      <td>male</td>\n",
       "      <td>22.0</td>\n",
       "      <td>1</td>\n",
       "      <td>0</td>\n",
       "      <td>A/5 21171</td>\n",
       "      <td>7.2500</td>\n",
       "      <td>NaN</td>\n",
       "      <td>S</td>\n",
       "    </tr>\n",
       "    <tr>\n",
       "      <th>1</th>\n",
       "      <td>2</td>\n",
       "      <td>1</td>\n",
       "      <td>1</td>\n",
       "      <td>Cumings, Mrs. John Bradley (Florence Briggs Th...</td>\n",
       "      <td>female</td>\n",
       "      <td>38.0</td>\n",
       "      <td>1</td>\n",
       "      <td>0</td>\n",
       "      <td>PC 17599</td>\n",
       "      <td>71.2833</td>\n",
       "      <td>C85</td>\n",
       "      <td>C</td>\n",
       "    </tr>\n",
       "    <tr>\n",
       "      <th>2</th>\n",
       "      <td>3</td>\n",
       "      <td>1</td>\n",
       "      <td>3</td>\n",
       "      <td>Heikkinen, Miss. Laina</td>\n",
       "      <td>female</td>\n",
       "      <td>26.0</td>\n",
       "      <td>0</td>\n",
       "      <td>0</td>\n",
       "      <td>STON/O2. 3101282</td>\n",
       "      <td>7.9250</td>\n",
       "      <td>NaN</td>\n",
       "      <td>S</td>\n",
       "    </tr>\n",
       "    <tr>\n",
       "      <th>3</th>\n",
       "      <td>4</td>\n",
       "      <td>1</td>\n",
       "      <td>1</td>\n",
       "      <td>Futrelle, Mrs. Jacques Heath (Lily May Peel)</td>\n",
       "      <td>female</td>\n",
       "      <td>35.0</td>\n",
       "      <td>1</td>\n",
       "      <td>0</td>\n",
       "      <td>113803</td>\n",
       "      <td>53.1000</td>\n",
       "      <td>C123</td>\n",
       "      <td>S</td>\n",
       "    </tr>\n",
       "    <tr>\n",
       "      <th>4</th>\n",
       "      <td>5</td>\n",
       "      <td>0</td>\n",
       "      <td>3</td>\n",
       "      <td>Allen, Mr. William Henry</td>\n",
       "      <td>male</td>\n",
       "      <td>35.0</td>\n",
       "      <td>0</td>\n",
       "      <td>0</td>\n",
       "      <td>373450</td>\n",
       "      <td>8.0500</td>\n",
       "      <td>NaN</td>\n",
       "      <td>S</td>\n",
       "    </tr>\n",
       "  </tbody>\n",
       "</table>\n",
       "</div>"
      ],
      "text/plain": [
       "   PassengerId  Survived  Pclass  \\\n",
       "0            1         0       3   \n",
       "1            2         1       1   \n",
       "2            3         1       3   \n",
       "3            4         1       1   \n",
       "4            5         0       3   \n",
       "\n",
       "                                                Name     Sex   Age  SibSp  \\\n",
       "0                            Braund, Mr. Owen Harris    male  22.0      1   \n",
       "1  Cumings, Mrs. John Bradley (Florence Briggs Th...  female  38.0      1   \n",
       "2                             Heikkinen, Miss. Laina  female  26.0      0   \n",
       "3       Futrelle, Mrs. Jacques Heath (Lily May Peel)  female  35.0      1   \n",
       "4                           Allen, Mr. William Henry    male  35.0      0   \n",
       "\n",
       "   Parch            Ticket     Fare Cabin Embarked  \n",
       "0      0         A/5 21171   7.2500   NaN        S  \n",
       "1      0          PC 17599  71.2833   C85        C  \n",
       "2      0  STON/O2. 3101282   7.9250   NaN        S  \n",
       "3      0            113803  53.1000  C123        S  \n",
       "4      0            373450   8.0500   NaN        S  "
      ]
     },
     "execution_count": 3,
     "metadata": {},
     "output_type": "execute_result"
    }
   ],
   "source": [
    "# melihat dari data teratas\n",
    "\n",
    "df.head()"
   ]
  },
  {
   "cell_type": "code",
   "execution_count": 4,
   "id": "318bee3e-9d7d-4d09-95fd-921c1581ab37",
   "metadata": {},
   "outputs": [
    {
     "name": "stdout",
     "output_type": "stream",
     "text": [
      "<class 'pandas.core.frame.DataFrame'>\n",
      "RangeIndex: 891 entries, 0 to 890\n",
      "Data columns (total 12 columns):\n",
      " #   Column       Non-Null Count  Dtype  \n",
      "---  ------       --------------  -----  \n",
      " 0   PassengerId  891 non-null    int64  \n",
      " 1   Survived     891 non-null    int64  \n",
      " 2   Pclass       891 non-null    int64  \n",
      " 3   Name         891 non-null    object \n",
      " 4   Sex          891 non-null    object \n",
      " 5   Age          714 non-null    float64\n",
      " 6   SibSp        891 non-null    int64  \n",
      " 7   Parch        891 non-null    int64  \n",
      " 8   Ticket       891 non-null    object \n",
      " 9   Fare         891 non-null    float64\n",
      " 10  Cabin        204 non-null    object \n",
      " 11  Embarked     889 non-null    object \n",
      "dtypes: float64(2), int64(5), object(5)\n",
      "memory usage: 83.7+ KB\n"
     ]
    }
   ],
   "source": [
    "# melihat info data\n",
    "\n",
    "df.info()"
   ]
  },
  {
   "cell_type": "markdown",
   "id": "9e0dc18a-ca69-4dc2-bfd2-ab943c6b229d",
   "metadata": {},
   "source": [
    "# Column Age"
   ]
  },
  {
   "cell_type": "markdown",
   "id": "54ac0c9f-6d1b-47aa-948b-10c2afa9c207",
   "metadata": {},
   "source": [
    "**Tampilkan visualisasi kolom nya**"
   ]
  },
  {
   "cell_type": "code",
   "execution_count": 5,
   "id": "368d76c1-c0d6-4f7a-b752-3685d1c6646c",
   "metadata": {},
   "outputs": [
    {
     "data": {
      "image/png": "[encoded data removed]",
      "text/plain": [
       "<Figure size 640x480 with 1 Axes>"
      ]
     },
     "metadata": {},
     "output_type": "display_data"
    }
   ],
   "source": [
    "df.Age.plot(kind='hist');"
   ]
  },
  {
   "cell_type": "markdown",
   "id": "9a798ccc-9ada-4ad0-a611-c49a1270bcb7",
   "metadata": {},
   "source": [
    "karena column Age berdistribusi skewness\n",
    "\n",
    "maka kita akan melakukan imputation pada column Age dengan mengunakan median"
   ]
  },
  {
   "cell_type": "code",
   "execution_count": 6,
   "id": "d604ab1d-5fa5-484c-ada6-9d068363149f",
   "metadata": {},
   "outputs": [],
   "source": [
    "val = df.Age.median()\n",
    "df['Age'] = df.Age.fillna(val)"
   ]
  },
  {
   "cell_type": "markdown",
   "id": "a3e48995-6263-459c-862a-1b6a53c3a78b",
   "metadata": {},
   "source": [
    "tampilkan info dataset untuk meihat apakah kolom Age sudah terimputasi"
   ]
  },
  {
   "cell_type": "markdown",
   "id": "c6d5be73-c7b0-49af-9c20-1818231e648d",
   "metadata": {},
   "source": [
    "Ternyata kolom Age sekarang sudah berubah jumlah nya"
   ]
  },
  {
   "cell_type": "code",
   "execution_count": 7,
   "id": "a2205f1d-c5ca-41fc-8adb-808ca1be9016",
   "metadata": {},
   "outputs": [
    {
     "name": "stdout",
     "output_type": "stream",
     "text": [
      "<class 'pandas.core.frame.DataFrame'>\n",
      "RangeIndex: 891 entries, 0 to 890\n",
      "Data columns (total 12 columns):\n",
      " #   Column       Non-Null Count  Dtype  \n",
      "---  ------       --------------  -----  \n",
      " 0   PassengerId  891 non-null    int64  \n",
      " 1   Survived     891 non-null    int64  \n",
      " 2   Pclass       891 non-null    int64  \n",
      " 3   Name         891 non-null    object \n",
      " 4   Sex          891 non-null    object \n",
      " 5   Age          891 non-null    float64\n",
      " 6   SibSp        891 non-null    int64  \n",
      " 7   Parch        891 non-null    int64  \n",
      " 8   Ticket       891 non-null    object \n",
      " 9   Fare         891 non-null    float64\n",
      " 10  Cabin        204 non-null    object \n",
      " 11  Embarked     889 non-null    object \n",
      "dtypes: float64(2), int64(5), object(5)\n",
      "memory usage: 83.7+ KB\n"
     ]
    }
   ],
   "source": [
    "df.info()"
   ]
  },
  {
   "cell_type": "markdown",
   "id": "53f332f7-b6bd-4a59-bab8-e2885f816ecf",
   "metadata": {},
   "source": [
    "# Column Cabin"
   ]
  },
  {
   "cell_type": "markdown",
   "id": "284241fa-17d0-4ad2-846d-3186ba179a6b",
   "metadata": {},
   "source": [
    "jumlah seluruh data entry adalah 891. sementara column Cabin berjumlah 204\n",
    "\n",
    "artinya terdapat data null pada kolom Cabin\n",
    "\n",
    "tampilkan proporsi data dari kolom Cabin"
   ]
  },
  {
   "cell_type": "code",
   "execution_count": 8,
   "id": "d6534ab9-eb42-4d71-be42-364b8d0afb2b",
   "metadata": {},
   "outputs": [
    {
     "data": {
      "text/plain": [
       "891"
      ]
     },
     "execution_count": 8,
     "metadata": {},
     "output_type": "execute_result"
    }
   ],
   "source": [
    "df.shape[0]"
   ]
  },
  {
   "cell_type": "code",
   "execution_count": 9,
   "id": "aae21c54-6577-42e4-9d39-5e4b25ed1756",
   "metadata": {},
   "outputs": [
    {
     "data": {
      "text/plain": [
       "687"
      ]
     },
     "execution_count": 9,
     "metadata": {},
     "output_type": "execute_result"
    }
   ],
   "source": [
    "df['Cabin'].isna().sum()"
   ]
  },
  {
   "cell_type": "code",
   "execution_count": 10,
   "id": "d475a9ac-14ef-4076-9bc5-d39cb5b9f931",
   "metadata": {},
   "outputs": [
    {
     "data": {
      "text/plain": [
       "0.7710437710437711"
      ]
     },
     "execution_count": 10,
     "metadata": {},
     "output_type": "execute_result"
    }
   ],
   "source": [
    "df['Cabin'].isna().sum()/df.shape[0]"
   ]
  },
  {
   "cell_type": "code",
   "execution_count": 11,
   "id": "cb7e74fe-4f35-430f-a588-9e1e6d8e47c7",
   "metadata": {},
   "outputs": [
    {
     "data": {
      "text/plain": [
       "Cabin\n",
       "B96 B98        4\n",
       "G6             4\n",
       "C23 C25 C27    4\n",
       "C22 C26        3\n",
       "F33            3\n",
       "              ..\n",
       "E34            1\n",
       "C7             1\n",
       "C54            1\n",
       "E36            1\n",
       "C148           1\n",
       "Name: count, Length: 147, dtype: int64"
      ]
     },
     "execution_count": 11,
     "metadata": {},
     "output_type": "execute_result"
    }
   ],
   "source": [
    "df.Cabin.value_counts()"
   ]
  },
  {
   "cell_type": "markdown",
   "id": "f8a67350-34a7-4fc3-9992-6dfd95498231",
   "metadata": {},
   "source": [
    "terlihat bahwa value column Cabin terlalu banyak data unique nya\n",
    "\n",
    "dan juga info kolom Cabil tidak terlalu informatif untuk mengetahui data Survived, maka kita akan hapus kolom Cabin"
   ]
  },
  {
   "cell_type": "code",
   "execution_count": 12,
   "id": "a7ef4da3-5f44-42f7-a5c7-b087faf28042",
   "metadata": {},
   "outputs": [],
   "source": [
    "df.drop('Cabin', axis=1, inplace = True)"
   ]
  },
  {
   "cell_type": "markdown",
   "id": "0b06d637-528e-4464-b7f2-0e1bc58311ca",
   "metadata": {},
   "source": [
    "tampilkan info dataset untuk melihat apakah kolom Cabin sudah terhapus"
   ]
  },
  {
   "cell_type": "code",
   "execution_count": 13,
   "id": "aaefe0a9-8f38-45ed-b0d1-ec31b523c6ee",
   "metadata": {},
   "outputs": [
    {
     "name": "stdout",
     "output_type": "stream",
     "text": [
      "<class 'pandas.core.frame.DataFrame'>\n",
      "RangeIndex: 891 entries, 0 to 890\n",
      "Data columns (total 11 columns):\n",
      " #   Column       Non-Null Count  Dtype  \n",
      "---  ------       --------------  -----  \n",
      " 0   PassengerId  891 non-null    int64  \n",
      " 1   Survived     891 non-null    int64  \n",
      " 2   Pclass       891 non-null    int64  \n",
      " 3   Name         891 non-null    object \n",
      " 4   Sex          891 non-null    object \n",
      " 5   Age          891 non-null    float64\n",
      " 6   SibSp        891 non-null    int64  \n",
      " 7   Parch        891 non-null    int64  \n",
      " 8   Ticket       891 non-null    object \n",
      " 9   Fare         891 non-null    float64\n",
      " 10  Embarked     889 non-null    object \n",
      "dtypes: float64(2), int64(5), object(4)\n",
      "memory usage: 76.7+ KB\n"
     ]
    }
   ],
   "source": [
    "#dan berhasil\n",
    "\n",
    "df.info()"
   ]
  },
  {
   "cell_type": "markdown",
   "id": "0e254aec-6455-4b01-9d14-9adca0a40bb8",
   "metadata": {},
   "source": [
    "# Column Embarked"
   ]
  },
  {
   "cell_type": "markdown",
   "id": "bf8dc629-4e0f-4c7b-96b4-241dbebe76d6",
   "metadata": {},
   "source": [
    "jumlah seluruh data entry adalah 891. sementara kolom Embarked berjumlah 889\n",
    "\n",
    "artinya terdapat data null pada kolom Embarked \n",
    "\n",
    "kita periksa di lokasi manakah data null tersebut"
   ]
  },
  {
   "cell_type": "code",
   "execution_count": 14,
   "id": "ef2c1f78-85a8-4fcf-a68b-186f6a2db2b6",
   "metadata": {},
   "outputs": [
    {
     "data": {
      "text/plain": [
       "2"
      ]
     },
     "execution_count": 14,
     "metadata": {},
     "output_type": "execute_result"
    }
   ],
   "source": [
    "df.Embarked.isna().sum()"
   ]
  },
  {
   "cell_type": "markdown",
   "id": "05af9425-d275-4f58-a514-35ebacfc0fe6",
   "metadata": {},
   "source": [
    "tampilkan proporsi dari data column Embarked\n",
    "\n",
    "ternyata data column Embarked berupa data categoric"
   ]
  },
  {
   "cell_type": "code",
   "execution_count": 15,
   "id": "6561623b-3fe8-4c74-a81f-5e9bb5bcc5c0",
   "metadata": {},
   "outputs": [
    {
     "data": {
      "text/plain": [
       "Embarked\n",
       "S    644\n",
       "C    168\n",
       "Q     77\n",
       "Name: count, dtype: int64"
      ]
     },
     "execution_count": 15,
     "metadata": {},
     "output_type": "execute_result"
    }
   ],
   "source": [
    "df.Embarked.value_counts()"
   ]
  },
  {
   "cell_type": "markdown",
   "id": "5ad161e6-0d71-4efe-9d94-05b7d727331e",
   "metadata": {},
   "source": [
    "bila kita akan melakukan imputation pada column Embarked, maka kita periksa type data column Embarked terlebih dahulu. \n",
    "\n",
    "data column Embarked berupa data categoric maka imputation nya menggunakan mode nya, dari proporsi column Embarked itu S adalah data yang paling sering muncul maka S adalah mode nya"
   ]
  },
  {
   "cell_type": "code",
   "execution_count": 16,
   "id": "720545ae-1bbd-4c66-8dea-50924ae29307",
   "metadata": {},
   "outputs": [],
   "source": [
    "val = df.Embarked.mode().values[0]\n",
    "df['Embarked'] = df.Embarked.fillna(val)"
   ]
  },
  {
   "cell_type": "markdown",
   "id": "6dd8e1e4-4c8c-43bf-a1c8-72fd7788c1fc",
   "metadata": {},
   "source": [
    "setelah dilakukan imputation terlihat bahwa proporsi nya sudah berubah"
   ]
  },
  {
   "cell_type": "code",
   "execution_count": 17,
   "id": "f32f3028-5323-4b3b-b3f8-afa3ac273a47",
   "metadata": {},
   "outputs": [
    {
     "data": {
      "text/plain": [
       "Embarked\n",
       "S    646\n",
       "C    168\n",
       "Q     77\n",
       "Name: count, dtype: int64"
      ]
     },
     "execution_count": 17,
     "metadata": {},
     "output_type": "execute_result"
    }
   ],
   "source": [
    "#hasil di bawa harusnya\n",
    "#S 646\n",
    "#C 168\n",
    "#Q  77\n",
    "\n",
    "df.Embarked.value_counts()"
   ]
  },
  {
   "cell_type": "markdown",
   "id": "278884fa-0347-40ce-863e-e0fd70e3cd6c",
   "metadata": {},
   "source": [
    "# Column SibSp dan Column Parch"
   ]
  },
  {
   "cell_type": "markdown",
   "id": "4508e44c-980a-4ac9-8c54-1745545bcd9f",
   "metadata": {},
   "source": [
    "**manipulasi disini bukan untuk mencari nilai data, tetapi untuk mempermudah data ini di baca**"
   ]
  },
  {
   "cell_type": "markdown",
   "id": "6d4fb4ba-ae15-44a5-9d6f-8cc0c0ba8606",
   "metadata": {},
   "source": [
    "Colum SibSp (Sibling Spouse) bermakna column yang menyatakan jumlah saudara atau jumlah pasangan yang dibawa oleh Pessenger\n",
    "\n",
    "column Parch (Paret Children) bermakna kolom yang menyatakan jumlah orang tua atau jumlah anak yang di bawa oleh Pessenger\n",
    "\n",
    "kita akan bikin column baru yang menampilkan apakah dia sendiri atau membawa keluarga"
   ]
  },
  {
   "cell_type": "code",
   "execution_count": 18,
   "id": "e7ec0c47-fa8d-4400-89b0-0e81f730cba5",
   "metadata": {},
   "outputs": [],
   "source": [
    "#binning\n",
    "\n",
    "df['Alone']=df['SibSp']+df['Parch']"
   ]
  },
  {
   "cell_type": "code",
   "execution_count": 20,
   "id": "0e84d9a8-57b2-401a-a4bf-150e773ddc33",
   "metadata": {},
   "outputs": [
    {
     "name": "stderr",
     "output_type": "stream",
     "text": [
      "C:\\Users\\Win 10\\AppData\\Local\\Temp\\ipykernel_11424\\2201941281.py:1: SettingWithCopyWarning: \n",
      "A value is trying to be set on a copy of a slice from a DataFrame\n",
      "\n",
      "See the caveats in the documentation: https://pandas.pydata.org/pandas-docs/stable/user_guide/indexing.html#returning-a-view-versus-a-copy\n",
      "  df['Alone'][df['Alone']>0]='With Family'\n",
      "C:\\Users\\Win 10\\AppData\\Local\\Temp\\ipykernel_11424\\2201941281.py:1: FutureWarning: Setting an item of incompatible dtype is deprecated and will raise in a future error of pandas. Value 'With Family' has dtype incompatible with int64, please explicitly cast to a compatible dtype first.\n",
      "  df['Alone'][df['Alone']>0]='With Family'\n"
     ]
    }
   ],
   "source": [
    "df['Alone'][df['Alone']>0]='With Family'\n",
    "df['Alone'][df['Alone']==0]='without family'"
   ]
  },
  {
   "cell_type": "markdown",
   "id": "6b7d5e89-20e9-4152-8a4a-b705d4c9f6d2",
   "metadata": {},
   "source": [
    "munculkan tampilan data terbaru"
   ]
  },
  {
   "cell_type": "code",
   "execution_count": 21,
   "id": "978105a1-c7d6-4b7d-aacd-1e87859a8e81",
   "metadata": {},
   "outputs": [
    {
     "data": {
      "text/html": [
       "<div>\n",
       "<style scoped>\n",
       "    .dataframe tbody tr th:only-of-type {\n",
       "        vertical-align: middle;\n",
       "    }\n",
       "\n",
       "    .dataframe tbody tr th {\n",
       "        vertical-align: top;\n",
       "    }\n",
       "\n",
       "    .dataframe thead th {\n",
       "        text-align: right;\n",
       "    }\n",
       "</style>\n",
       "<table border=\"1\" class=\"dataframe\">\n",
       "  <thead>\n",
       "    <tr style=\"text-align: right;\">\n",
       "      <th></th>\n",
       "      <th>PassengerId</th>\n",
       "      <th>Survived</th>\n",
       "      <th>Pclass</th>\n",
       "      <th>Name</th>\n",
       "      <th>Sex</th>\n",
       "      <th>Age</th>\n",
       "      <th>SibSp</th>\n",
       "      <th>Parch</th>\n",
       "      <th>Ticket</th>\n",
       "      <th>Fare</th>\n",
       "      <th>Cabin</th>\n",
       "      <th>Embarked</th>\n",
       "      <th>Alone</th>\n",
       "    </tr>\n",
       "  </thead>\n",
       "  <tbody>\n",
       "    <tr>\n",
       "      <th>0</th>\n",
       "      <td>1</td>\n",
       "      <td>0</td>\n",
       "      <td>3</td>\n",
       "      <td>Braund, Mr. Owen Harris</td>\n",
       "      <td>male</td>\n",
       "      <td>22.0</td>\n",
       "      <td>1</td>\n",
       "      <td>0</td>\n",
       "      <td>A/5 21171</td>\n",
       "      <td>7.2500</td>\n",
       "      <td>NaN</td>\n",
       "      <td>S</td>\n",
       "      <td>With Family</td>\n",
       "    </tr>\n",
       "    <tr>\n",
       "      <th>1</th>\n",
       "      <td>2</td>\n",
       "      <td>1</td>\n",
       "      <td>1</td>\n",
       "      <td>Cumings, Mrs. John Bradley (Florence Briggs Th...</td>\n",
       "      <td>female</td>\n",
       "      <td>38.0</td>\n",
       "      <td>1</td>\n",
       "      <td>0</td>\n",
       "      <td>PC 17599</td>\n",
       "      <td>71.2833</td>\n",
       "      <td>C85</td>\n",
       "      <td>C</td>\n",
       "      <td>With Family</td>\n",
       "    </tr>\n",
       "    <tr>\n",
       "      <th>2</th>\n",
       "      <td>3</td>\n",
       "      <td>1</td>\n",
       "      <td>3</td>\n",
       "      <td>Heikkinen, Miss. Laina</td>\n",
       "      <td>female</td>\n",
       "      <td>26.0</td>\n",
       "      <td>0</td>\n",
       "      <td>0</td>\n",
       "      <td>STON/O2. 3101282</td>\n",
       "      <td>7.9250</td>\n",
       "      <td>NaN</td>\n",
       "      <td>S</td>\n",
       "      <td>without family</td>\n",
       "    </tr>\n",
       "    <tr>\n",
       "      <th>3</th>\n",
       "      <td>4</td>\n",
       "      <td>1</td>\n",
       "      <td>1</td>\n",
       "      <td>Futrelle, Mrs. Jacques Heath (Lily May Peel)</td>\n",
       "      <td>female</td>\n",
       "      <td>35.0</td>\n",
       "      <td>1</td>\n",
       "      <td>0</td>\n",
       "      <td>113803</td>\n",
       "      <td>53.1000</td>\n",
       "      <td>C123</td>\n",
       "      <td>S</td>\n",
       "      <td>With Family</td>\n",
       "    </tr>\n",
       "    <tr>\n",
       "      <th>4</th>\n",
       "      <td>5</td>\n",
       "      <td>0</td>\n",
       "      <td>3</td>\n",
       "      <td>Allen, Mr. William Henry</td>\n",
       "      <td>male</td>\n",
       "      <td>35.0</td>\n",
       "      <td>0</td>\n",
       "      <td>0</td>\n",
       "      <td>373450</td>\n",
       "      <td>8.0500</td>\n",
       "      <td>NaN</td>\n",
       "      <td>S</td>\n",
       "      <td>without family</td>\n",
       "    </tr>\n",
       "  </tbody>\n",
       "</table>\n",
       "</div>"
      ],
      "text/plain": [
       "   PassengerId  Survived  Pclass  \\\n",
       "0            1         0       3   \n",
       "1            2         1       1   \n",
       "2            3         1       3   \n",
       "3            4         1       1   \n",
       "4            5         0       3   \n",
       "\n",
       "                                                Name     Sex   Age  SibSp  \\\n",
       "0                            Braund, Mr. Owen Harris    male  22.0      1   \n",
       "1  Cumings, Mrs. John Bradley (Florence Briggs Th...  female  38.0      1   \n",
       "2                             Heikkinen, Miss. Laina  female  26.0      0   \n",
       "3       Futrelle, Mrs. Jacques Heath (Lily May Peel)  female  35.0      1   \n",
       "4                           Allen, Mr. William Henry    male  35.0      0   \n",
       "\n",
       "   Parch            Ticket     Fare Cabin Embarked           Alone  \n",
       "0      0         A/5 21171   7.2500   NaN        S     With Family  \n",
       "1      0          PC 17599  71.2833   C85        C     With Family  \n",
       "2      0  STON/O2. 3101282   7.9250   NaN        S  without family  \n",
       "3      0            113803  53.1000  C123        S     With Family  \n",
       "4      0            373450   8.0500   NaN        S  without family  "
      ]
     },
     "execution_count": 21,
     "metadata": {},
     "output_type": "execute_result"
    }
   ],
   "source": [
    "df.head()"
   ]
  },
  {
   "cell_type": "code",
   "execution_count": 22,
   "id": "48c09e0e-eb86-424d-befa-c5578cec1a14",
   "metadata": {},
   "outputs": [
    {
     "name": "stdout",
     "output_type": "stream",
     "text": [
      "<class 'pandas.core.frame.DataFrame'>\n",
      "RangeIndex: 891 entries, 0 to 890\n",
      "Data columns (total 13 columns):\n",
      " #   Column       Non-Null Count  Dtype  \n",
      "---  ------       --------------  -----  \n",
      " 0   PassengerId  891 non-null    int64  \n",
      " 1   Survived     891 non-null    int64  \n",
      " 2   Pclass       891 non-null    int64  \n",
      " 3   Name         891 non-null    object \n",
      " 4   Sex          891 non-null    object \n",
      " 5   Age          714 non-null    float64\n",
      " 6   SibSp        891 non-null    int64  \n",
      " 7   Parch        891 non-null    int64  \n",
      " 8   Ticket       891 non-null    object \n",
      " 9   Fare         891 non-null    float64\n",
      " 10  Cabin        204 non-null    object \n",
      " 11  Embarked     889 non-null    object \n",
      " 12  Alone        891 non-null    object \n",
      "dtypes: float64(2), int64(5), object(6)\n",
      "memory usage: 90.6+ KB\n"
     ]
    }
   ],
   "source": [
    "df.info()"
   ]
  },
  {
   "cell_type": "markdown",
   "id": "5b6556e1-4085-4444-bec4-411b8ff16aa4",
   "metadata": {},
   "source": [
    "# Hubungan antara Column Sex dan Column Survived"
   ]
  },
  {
   "cell_type": "markdown",
   "id": "fbc78ac8-35f3-448c-8df8-eec7beef89c4",
   "metadata": {},
   "source": [
    "kita lihat proporsi Column Sex yang Survived"
   ]
  },
  {
   "cell_type": "code",
   "execution_count": 23,
   "id": "b9d43169-ee98-4136-8360-c716643c299e",
   "metadata": {},
   "outputs": [
    {
     "data": {
      "text/plain": [
       "Sex\n",
       "female    233\n",
       "male      109\n",
       "Name: count, dtype: int64"
      ]
     },
     "execution_count": 23,
     "metadata": {},
     "output_type": "execute_result"
    }
   ],
   "source": [
    "df.Sex[df['Survived']==1].value_counts()"
   ]
  },
  {
   "cell_type": "markdown",
   "id": "9bb9d21f-146c-4266-8348-2638048f9ca3",
   "metadata": {},
   "source": [
    "tampilkan visualisasi Column Sex yang sudah Survived"
   ]
  },
  {
   "cell_type": "code",
   "execution_count": 24,
   "id": "63f0ede1-bc97-4f78-9934-c68e14499098",
   "metadata": {},
   "outputs": [
    {
     "data": {
      "image/png": "[encoded data removed]",
      "text/plain": [
       "<Figure size 640x480 with 1 Axes>"
      ]
     },
     "metadata": {},
     "output_type": "display_data"
    }
   ],
   "source": [
    "df.Sex[df['Survived']==1].value_counts().plot(kind='bar');"
   ]
  },
  {
   "cell_type": "markdown",
   "id": "a7dfe2af-57d8-47d5-85d8-de7f3ef57f30",
   "metadata": {},
   "source": [
    "kita bandingkan kolom Sex yang tidak Survived"
   ]
  },
  {
   "cell_type": "code",
   "execution_count": 25,
   "id": "0f4b4f11-c80c-4e78-b275-07f3754416c6",
   "metadata": {},
   "outputs": [
    {
     "data": {
      "text/plain": [
       "Sex\n",
       "female    233\n",
       "male      109\n",
       "Name: count, dtype: int64"
      ]
     },
     "execution_count": 25,
     "metadata": {},
     "output_type": "execute_result"
    }
   ],
   "source": [
    "df.Sex[df['Survived']==1].value_counts()"
   ]
  },
  {
   "cell_type": "markdown",
   "id": "ce47b816-2c62-4d2b-9afb-8ab3fabcd4bd",
   "metadata": {},
   "source": [
    "tampilkan visualisasi Column Sex yang tidak Survived"
   ]
  },
  {
   "cell_type": "code",
   "execution_count": 28,
   "id": "f945abcb-a40f-44c6-8e5b-fd4c5d803169",
   "metadata": {},
   "outputs": [
    {
     "data": {
      "image/png": "[encoded data removed]",
      "text/plain": [
       "<Figure size 640x480 with 1 Axes>"
      ]
     },
     "metadata": {},
     "output_type": "display_data"
    }
   ],
   "source": [
    "df.Sex[df['Survived']==0].value_counts().plot(kind='bar');"
   ]
  },
  {
   "cell_type": "markdown",
   "id": "f58294f8-885b-48a2-b944-dff7213d7688",
   "metadata": {},
   "source": [
    "# Pivot Grafik"
   ]
  },
  {
   "cell_type": "code",
   "execution_count": 29,
   "id": "33c1140e-3796-4554-9d66-b47094fa3957",
   "metadata": {},
   "outputs": [],
   "source": [
    "def make_pivot(param1, param2):\n",
    "    df_slice = df[[param1, param2, 'PassengerId']]\n",
    "    slice_pivot = df_slice.pivot_table(index=[param1], columns=[param2], \\\n",
    "                                        aggfunc=np.size,fill_value=0)\n",
    "    p_chart = slice_pivot.plot(kind='bar');\n",
    "    for p in p_chart.patches:\n",
    "        p_chart.annotate(str(p.get_height()), (p.get_x() * 1.05, p.get_height() * 1.01))\n",
    "        return slice_pivot\n",
    "        return p_chart"
   ]
  },
  {
   "cell_type": "markdown",
   "id": "bddd0cfb-e8f0-44e8-913d-12b5e7780a08",
   "metadata": {},
   "source": [
    "# Pivot antara kolom Sex dan kolom Survived"
   ]
  },
  {
   "cell_type": "code",
   "execution_count": 30,
   "id": "ba062378-b894-4bf2-8811-65bc8c4a12bc",
   "metadata": {},
   "outputs": [
    {
     "data": {
      "text/html": [
       "<div>\n",
       "<style scoped>\n",
       "    .dataframe tbody tr th:only-of-type {\n",
       "        vertical-align: middle;\n",
       "    }\n",
       "\n",
       "    .dataframe tbody tr th {\n",
       "        vertical-align: top;\n",
       "    }\n",
       "\n",
       "    .dataframe thead tr th {\n",
       "        text-align: left;\n",
       "    }\n",
       "\n",
       "    .dataframe thead tr:last-of-type th {\n",
       "        text-align: right;\n",
       "    }\n",
       "</style>\n",
       "<table border=\"1\" class=\"dataframe\">\n",
       "  <thead>\n",
       "    <tr>\n",
       "      <th></th>\n",
       "      <th colspan=\"2\" halign=\"left\">PassengerId</th>\n",
       "    </tr>\n",
       "    <tr>\n",
       "      <th>Sex</th>\n",
       "      <th>female</th>\n",
       "      <th>male</th>\n",
       "    </tr>\n",
       "    <tr>\n",
       "      <th>Survived</th>\n",
       "      <th></th>\n",
       "      <th></th>\n",
       "    </tr>\n",
       "  </thead>\n",
       "  <tbody>\n",
       "    <tr>\n",
       "      <th>0</th>\n",
       "      <td>81</td>\n",
       "      <td>468</td>\n",
       "    </tr>\n",
       "    <tr>\n",
       "      <th>1</th>\n",
       "      <td>233</td>\n",
       "      <td>109</td>\n",
       "    </tr>\n",
       "  </tbody>\n",
       "</table>\n",
       "</div>"
      ],
      "text/plain": [
       "         PassengerId     \n",
       "Sex           female male\n",
       "Survived                 \n",
       "0                 81  468\n",
       "1                233  109"
      ]
     },
     "execution_count": 30,
     "metadata": {},
     "output_type": "execute_result"
    },
    {
     "data": {
      "image/png": "[encoded data removed]",
      "text/plain": [
       "<Figure size 640x480 with 1 Axes>"
      ]
     },
     "metadata": {},
     "output_type": "display_data"
    }
   ],
   "source": [
    "make_pivot('Survived', 'Sex')"
   ]
  },
  {
   "cell_type": "markdown",
   "id": "b3a6e99c-9f3a-4185-a031-194727b941a0",
   "metadata": {},
   "source": [
    "**SEKIANNNN**"
   ]
  }
 ],
 "metadata": {
  "kernelspec": {
   "display_name": "Python 3 (ipykernel)",
   "language": "python",
   "name": "python3"
  },
  "language_info": {
   "codemirror_mode": {
    "name": "ipython",
    "version": 3
   },
   "file_extension": ".py",
   "mimetype": "text/x-python",
   "name": "python",
   "nbconvert_exporter": "python",
   "pygments_lexer": "ipython3",
   "version": "3.11.7"
  }
 },
 "nbformat": 4,
 "nbformat_minor": 5
}
